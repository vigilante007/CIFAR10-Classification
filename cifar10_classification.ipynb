{
  "nbformat": 4,
  "nbformat_minor": 0,
  "metadata": {
    "colab": {
      "name": "DAI_Assignment_1_Q3.ipynb",
      "provenance": [],
      "collapsed_sections": []
    },
    "kernelspec": {
      "name": "python3",
      "display_name": "Python 3"
    }
  },
  "cells": [
    {
      "cell_type": "code",
      "metadata": {
        "colab": {
          "base_uri": "https://localhost:8080/"
        },
        "id": "0wlQjd4k2KR9",
        "outputId": "4e35d260-ec2a-461c-cb2a-640b80715ae1"
      },
      "source": [
        "from google.colab import drive\n",
        "drive.mount('/content/drive')"
      ],
      "execution_count": null,
      "outputs": [
        {
          "output_type": "stream",
          "text": [
            "Mounted at /content/drive\n"
          ],
          "name": "stdout"
        }
      ]
    },
    {
      "cell_type": "code",
      "metadata": {
        "colab": {
          "base_uri": "https://localhost:8080/"
        },
        "id": "IOWT4UuyxchT",
        "outputId": "eaa9c47e-f689-4623-bc4e-7e06071a50ba"
      },
      "source": [
        "!unzip /content/drive/MyDrive/cifar-10-batches-py.zip"
      ],
      "execution_count": null,
      "outputs": [
        {
          "output_type": "stream",
          "text": [
            "Archive:  /content/drive/MyDrive/cifar-10-batches-py.zip\n",
            "  inflating: cifar-10-batches-py/batches.meta  \n",
            "  inflating: cifar-10-batches-py/data_batch_1  \n",
            "  inflating: cifar-10-batches-py/data_batch_2  \n",
            "  inflating: cifar-10-batches-py/data_batch_3  \n",
            "  inflating: cifar-10-batches-py/data_batch_4  \n",
            "  inflating: cifar-10-batches-py/data_batch_5  \n",
            " extracting: cifar-10-batches-py/readme.html  \n",
            "  inflating: cifar-10-batches-py/test_batch  \n"
          ],
          "name": "stdout"
        }
      ]
    },
    {
      "cell_type": "code",
      "metadata": {
        "id": "U0TDwgPlwXtX"
      },
      "source": [
        "import pickle\n",
        "import numpy as np\n",
        "import matplotlib.pyplot as plt\n",
        "import seaborn as sns\n",
        "import pandas as pd\n",
        "import tensorflow as tf\n",
        "from tensorflow import keras\n",
        "from sklearn import model_selection, svm, preprocessing\n",
        "from sklearn.metrics import accuracy_score,confusion_matrix"
      ],
      "execution_count": null,
      "outputs": []
    },
    {
      "cell_type": "code",
      "metadata": {
        "id": "hykPQAoA7fPa"
      },
      "source": [
        "cifar10_dataset_folder_path = '/content/cifar-10-batches-py'\n",
        "cifar_org_train_df = pd.DataFrame()\n",
        "cifar_org_test_df = pd.DataFrame()"
      ],
      "execution_count": null,
      "outputs": []
    },
    {
      "cell_type": "code",
      "metadata": {
        "id": "QNn0EqdM0SC-"
      },
      "source": [
        "for i in range(1,6):\n",
        "  with open(cifar10_dataset_folder_path + '/data_batch_' + str(i), mode='rb') as file:\n",
        "          batch = pickle.load(file, encoding='latin1')\n",
        "          \n",
        "  #train_features = batch['data'].reshape((len(batch['data']), 3, 32, 32)).transpose(0, 2, 3, 1)\n",
        "  train_features = batch['data']\n",
        "  train_labels = batch['labels']\n",
        "  cifar_org_train_df = cifar_org_train_df.append(pd.DataFrame({\"labels\":train_labels,\"images\":list(train_features)}))"
      ],
      "execution_count": null,
      "outputs": []
    },
    {
      "cell_type": "code",
      "metadata": {
        "id": "8SoDuKGGwHq3"
      },
      "source": [
        "# load the test dataset\n",
        "with open(cifar10_dataset_folder_path + '/test_batch', mode='rb') as file:\n",
        "    batch = pickle.load(file, encoding='latin1')\n",
        "\n",
        "# preprocess the testing data\n",
        "#test_features = batch['data'].reshape((len(batch['data']), 3, 32, 32)).transpose(0, 2, 3, 1)\n",
        "test_features = batch['data']\n",
        "test_labels = batch['labels']\n",
        "cifar_org_test_df = cifar_org_test_df.append(pd.DataFrame({\"labels\":test_labels,\"images\":list(test_features)}))"
      ],
      "execution_count": null,
      "outputs": []
    },
    {
      "cell_type": "code",
      "metadata": {
        "id": "8LW6NeJlzdaO"
      },
      "source": [
        "cifar_org_train_df = cifar_org_train_df[(cifar_org_train_df[\"labels\"] == 0) | (cifar_org_train_df[\"labels\"] == 1) | \n",
        "                                        (cifar_org_train_df[\"labels\"] == 2) | (cifar_org_train_df[\"labels\"] == 3) |\n",
        "                                        (cifar_org_train_df[\"labels\"] == 4)]\n",
        "cifar_org_test_df = cifar_org_test_df[(cifar_org_test_df[\"labels\"] == 0) | (cifar_org_test_df[\"labels\"] == 1) | \n",
        "                                      (cifar_org_test_df[\"labels\"] == 2) | (cifar_org_test_df[\"labels\"] == 3) | \n",
        "                                      (cifar_org_test_df[\"labels\"] == 4)]"
      ],
      "execution_count": null,
      "outputs": []
    },
    {
      "cell_type": "code",
      "metadata": {
        "id": "IZQ5XOYXCv1S"
      },
      "source": [
        "train_img = list(cifar_org_train_df[\"images\"].values)\n",
        "train_labels = list(cifar_org_train_df[\"labels\"].values)\n",
        "\n",
        "test_img = list(cifar_org_test_df[\"images\"].values)\n",
        "test_labels = list(cifar_org_test_df[\"labels\"].values)"
      ],
      "execution_count": null,
      "outputs": []
    },
    {
      "cell_type": "code",
      "metadata": {
        "id": "jJzE-tcWENt4"
      },
      "source": [
        "train_images = np.array(train_img) / 255.0\n",
        "train_labels = np.array(train_labels)\n",
        "\n",
        "test_images = np.array(test_img) / 255.0\n",
        "test_labels = np.array(test_labels)"
      ],
      "execution_count": null,
      "outputs": []
    },
    {
      "cell_type": "code",
      "metadata": {
        "id": "LzMbEW97I1Yo"
      },
      "source": [
        "# clf = svm.SVC(gamma=0.1, kernel='poly', probability=True)\n",
        "# clf.fit(train_images,train_labels)"
      ],
      "execution_count": null,
      "outputs": []
    },
    {
      "cell_type": "code",
      "metadata": {
        "colab": {
          "base_uri": "https://localhost:8080/"
        },
        "id": "J6htsurOFBld",
        "outputId": "809107c8-ee5f-4997-92e8-c20d46c9defe"
      },
      "source": [
        "callback = tf.keras.callbacks.EarlyStopping(monitor='loss', patience=3)\n",
        "\n",
        "model = keras.Sequential([\n",
        "    #keras.layers.Flatten(input_shape=(28,28)),\n",
        "    keras.layers.Dense(128, activation=tf.nn.relu, input_shape = (784,)),\n",
        "    keras.layers.Dense(128, activation=tf.nn.relu),\n",
        "    keras.layers.Dense(128, activation=tf.nn.relu),\n",
        "    keras.layers.Dense(64, activation=tf.nn.relu),\n",
        "    keras.layers.Dense(5, activation=tf.nn.softmax)\n",
        "])\n",
        "\n",
        "model.compile(optimizer='adam', \n",
        "              loss='sparse_categorical_crossentropy',\n",
        "              metrics=['accuracy'])\n",
        "\n",
        "model.summary()"
      ],
      "execution_count": null,
      "outputs": [
        {
          "output_type": "stream",
          "text": [
            "Model: \"sequential_3\"\n",
            "_________________________________________________________________\n",
            "Layer (type)                 Output Shape              Param #   \n",
            "=================================================================\n",
            "dense_15 (Dense)             (None, 128)               100480    \n",
            "_________________________________________________________________\n",
            "dense_16 (Dense)             (None, 128)               16512     \n",
            "_________________________________________________________________\n",
            "dense_17 (Dense)             (None, 128)               16512     \n",
            "_________________________________________________________________\n",
            "dense_18 (Dense)             (None, 64)                8256      \n",
            "_________________________________________________________________\n",
            "dense_19 (Dense)             (None, 5)                 325       \n",
            "=================================================================\n",
            "Total params: 142,085\n",
            "Trainable params: 142,085\n",
            "Non-trainable params: 0\n",
            "_________________________________________________________________\n"
          ],
          "name": "stdout"
        }
      ]
    },
    {
      "cell_type": "code",
      "metadata": {
        "colab": {
          "base_uri": "https://localhost:8080/"
        },
        "id": "_kbJAoJJFZqX",
        "outputId": "07bde1a7-65bf-491f-c7a6-3332eabcfa11"
      },
      "source": [
        "model.fit(train_images, train_labels, epochs=500,callbacks=[callback])"
      ],
      "execution_count": null,
      "outputs": [
        {
          "output_type": "stream",
          "text": [
            "Epoch 1/500\n",
            "782/782 [==============================] - 4s 4ms/step - loss: 1.3763 - accuracy: 0.4147\n",
            "Epoch 2/500\n",
            "782/782 [==============================] - 3s 4ms/step - loss: 1.1754 - accuracy: 0.5184\n",
            "Epoch 3/500\n",
            "782/782 [==============================] - 3s 4ms/step - loss: 1.0974 - accuracy: 0.5574\n",
            "Epoch 4/500\n",
            "782/782 [==============================] - 3s 4ms/step - loss: 1.0616 - accuracy: 0.5738\n",
            "Epoch 5/500\n",
            "782/782 [==============================] - 3s 4ms/step - loss: 1.0335 - accuracy: 0.5840\n",
            "Epoch 6/500\n",
            "782/782 [==============================] - 3s 4ms/step - loss: 0.9852 - accuracy: 0.6108\n",
            "Epoch 7/500\n",
            "782/782 [==============================] - 3s 4ms/step - loss: 0.9807 - accuracy: 0.6070\n",
            "Epoch 8/500\n",
            "782/782 [==============================] - 3s 4ms/step - loss: 0.9460 - accuracy: 0.6227\n",
            "Epoch 9/500\n",
            "782/782 [==============================] - 3s 4ms/step - loss: 0.9306 - accuracy: 0.6282\n",
            "Epoch 10/500\n",
            "782/782 [==============================] - 3s 4ms/step - loss: 0.9210 - accuracy: 0.6310\n",
            "Epoch 11/500\n",
            "782/782 [==============================] - 3s 4ms/step - loss: 0.8955 - accuracy: 0.6445\n",
            "Epoch 12/500\n",
            "782/782 [==============================] - 3s 4ms/step - loss: 0.8845 - accuracy: 0.6444\n",
            "Epoch 13/500\n",
            "782/782 [==============================] - 3s 4ms/step - loss: 0.8755 - accuracy: 0.6548\n",
            "Epoch 14/500\n",
            "782/782 [==============================] - 3s 4ms/step - loss: 0.8603 - accuracy: 0.6542\n",
            "Epoch 15/500\n",
            "782/782 [==============================] - 3s 4ms/step - loss: 0.8458 - accuracy: 0.6669\n",
            "Epoch 16/500\n",
            "782/782 [==============================] - 3s 4ms/step - loss: 0.8233 - accuracy: 0.6690\n",
            "Epoch 17/500\n",
            "782/782 [==============================] - 3s 4ms/step - loss: 0.8168 - accuracy: 0.6763\n",
            "Epoch 18/500\n",
            "782/782 [==============================] - 3s 4ms/step - loss: 0.8185 - accuracy: 0.6716\n",
            "Epoch 19/500\n",
            "782/782 [==============================] - 3s 4ms/step - loss: 0.8015 - accuracy: 0.6782\n",
            "Epoch 20/500\n",
            "782/782 [==============================] - 3s 4ms/step - loss: 0.7824 - accuracy: 0.6918\n",
            "Epoch 21/500\n",
            "782/782 [==============================] - 3s 4ms/step - loss: 0.7849 - accuracy: 0.6860\n",
            "Epoch 22/500\n",
            "782/782 [==============================] - 3s 4ms/step - loss: 0.7532 - accuracy: 0.7031\n",
            "Epoch 23/500\n",
            "782/782 [==============================] - 3s 4ms/step - loss: 0.7548 - accuracy: 0.6972\n",
            "Epoch 24/500\n",
            "782/782 [==============================] - 3s 4ms/step - loss: 0.7337 - accuracy: 0.7092\n",
            "Epoch 25/500\n",
            "782/782 [==============================] - 3s 4ms/step - loss: 0.7377 - accuracy: 0.7041\n",
            "Epoch 26/500\n",
            "782/782 [==============================] - 3s 4ms/step - loss: 0.7104 - accuracy: 0.7170\n",
            "Epoch 27/500\n",
            "782/782 [==============================] - 3s 4ms/step - loss: 0.7083 - accuracy: 0.7194\n",
            "Epoch 28/500\n",
            "782/782 [==============================] - 3s 4ms/step - loss: 0.7077 - accuracy: 0.7163\n",
            "Epoch 29/500\n",
            "782/782 [==============================] - 3s 4ms/step - loss: 0.6949 - accuracy: 0.7199\n",
            "Epoch 30/500\n",
            "782/782 [==============================] - 3s 4ms/step - loss: 0.6688 - accuracy: 0.7339\n",
            "Epoch 31/500\n",
            "782/782 [==============================] - 3s 4ms/step - loss: 0.6605 - accuracy: 0.7309\n",
            "Epoch 32/500\n",
            "782/782 [==============================] - 3s 4ms/step - loss: 0.6700 - accuracy: 0.7274\n",
            "Epoch 33/500\n",
            "782/782 [==============================] - 3s 4ms/step - loss: 0.6544 - accuracy: 0.7321\n",
            "Epoch 34/500\n",
            "782/782 [==============================] - 3s 4ms/step - loss: 0.6626 - accuracy: 0.7311\n",
            "Epoch 35/500\n",
            "782/782 [==============================] - 3s 4ms/step - loss: 0.6397 - accuracy: 0.7433\n",
            "Epoch 36/500\n",
            "782/782 [==============================] - 3s 4ms/step - loss: 0.6154 - accuracy: 0.7568\n",
            "Epoch 37/500\n",
            "782/782 [==============================] - 3s 4ms/step - loss: 0.6207 - accuracy: 0.7535\n",
            "Epoch 38/500\n",
            "782/782 [==============================] - 3s 4ms/step - loss: 0.6116 - accuracy: 0.7537\n",
            "Epoch 39/500\n",
            "782/782 [==============================] - 3s 4ms/step - loss: 0.6041 - accuracy: 0.7600\n",
            "Epoch 40/500\n",
            "782/782 [==============================] - 3s 4ms/step - loss: 0.5908 - accuracy: 0.7656\n",
            "Epoch 41/500\n",
            "782/782 [==============================] - 3s 4ms/step - loss: 0.5802 - accuracy: 0.7667\n",
            "Epoch 42/500\n",
            "782/782 [==============================] - 3s 4ms/step - loss: 0.5773 - accuracy: 0.7666\n",
            "Epoch 43/500\n",
            "782/782 [==============================] - 3s 4ms/step - loss: 0.5635 - accuracy: 0.7732\n",
            "Epoch 44/500\n",
            "782/782 [==============================] - 3s 4ms/step - loss: 0.5554 - accuracy: 0.7754\n",
            "Epoch 45/500\n",
            "782/782 [==============================] - 3s 4ms/step - loss: 0.5579 - accuracy: 0.7737\n",
            "Epoch 46/500\n",
            "782/782 [==============================] - 3s 4ms/step - loss: 0.5686 - accuracy: 0.7733\n",
            "Epoch 47/500\n",
            "782/782 [==============================] - 3s 4ms/step - loss: 0.5493 - accuracy: 0.7795\n",
            "Epoch 48/500\n",
            "782/782 [==============================] - 3s 4ms/step - loss: 0.5252 - accuracy: 0.7881\n",
            "Epoch 49/500\n",
            "782/782 [==============================] - 3s 4ms/step - loss: 0.5268 - accuracy: 0.7895\n",
            "Epoch 50/500\n",
            "782/782 [==============================] - 3s 4ms/step - loss: 0.5239 - accuracy: 0.7855\n",
            "Epoch 51/500\n",
            "782/782 [==============================] - 3s 4ms/step - loss: 0.5438 - accuracy: 0.7814\n",
            "Epoch 52/500\n",
            "782/782 [==============================] - 3s 4ms/step - loss: 0.5105 - accuracy: 0.7952\n",
            "Epoch 53/500\n",
            "782/782 [==============================] - 3s 4ms/step - loss: 0.5081 - accuracy: 0.7981\n",
            "Epoch 54/500\n",
            "782/782 [==============================] - 3s 4ms/step - loss: 0.5108 - accuracy: 0.7952\n",
            "Epoch 55/500\n",
            "782/782 [==============================] - 3s 4ms/step - loss: 0.4984 - accuracy: 0.8005\n",
            "Epoch 56/500\n",
            "782/782 [==============================] - 3s 4ms/step - loss: 0.4936 - accuracy: 0.8007\n",
            "Epoch 57/500\n",
            "782/782 [==============================] - 3s 4ms/step - loss: 0.4903 - accuracy: 0.8045\n",
            "Epoch 58/500\n",
            "782/782 [==============================] - 3s 4ms/step - loss: 0.4791 - accuracy: 0.8087\n",
            "Epoch 59/500\n",
            "782/782 [==============================] - 3s 4ms/step - loss: 0.4771 - accuracy: 0.8060\n",
            "Epoch 60/500\n",
            "782/782 [==============================] - 3s 4ms/step - loss: 0.4524 - accuracy: 0.8196\n",
            "Epoch 61/500\n",
            "782/782 [==============================] - 3s 4ms/step - loss: 0.4641 - accuracy: 0.8171\n",
            "Epoch 62/500\n",
            "782/782 [==============================] - 3s 4ms/step - loss: 0.4504 - accuracy: 0.8197\n",
            "Epoch 63/500\n",
            "782/782 [==============================] - 3s 4ms/step - loss: 0.4594 - accuracy: 0.8159\n",
            "Epoch 64/500\n",
            "782/782 [==============================] - 3s 4ms/step - loss: 0.4623 - accuracy: 0.8178\n",
            "Epoch 65/500\n",
            "782/782 [==============================] - 3s 4ms/step - loss: 0.4311 - accuracy: 0.8303\n",
            "Epoch 66/500\n",
            "782/782 [==============================] - 3s 4ms/step - loss: 0.4468 - accuracy: 0.8203\n",
            "Epoch 67/500\n",
            "782/782 [==============================] - 3s 4ms/step - loss: 0.4392 - accuracy: 0.8220\n",
            "Epoch 68/500\n",
            "782/782 [==============================] - 3s 4ms/step - loss: 0.4362 - accuracy: 0.8250\n",
            "Epoch 69/500\n",
            "782/782 [==============================] - 3s 4ms/step - loss: 0.4216 - accuracy: 0.8302\n",
            "Epoch 70/500\n",
            "782/782 [==============================] - 3s 4ms/step - loss: 0.4393 - accuracy: 0.8262\n",
            "Epoch 71/500\n",
            "782/782 [==============================] - 3s 4ms/step - loss: 0.4359 - accuracy: 0.8258\n",
            "Epoch 72/500\n",
            "782/782 [==============================] - 3s 4ms/step - loss: 0.4289 - accuracy: 0.8292\n",
            "Epoch 73/500\n",
            "782/782 [==============================] - 3s 4ms/step - loss: 0.3979 - accuracy: 0.8433\n",
            "Epoch 74/500\n",
            "782/782 [==============================] - 3s 4ms/step - loss: 0.4212 - accuracy: 0.8292\n",
            "Epoch 75/500\n",
            "782/782 [==============================] - 3s 4ms/step - loss: 0.3849 - accuracy: 0.8463\n",
            "Epoch 76/500\n",
            "782/782 [==============================] - 3s 4ms/step - loss: 0.4353 - accuracy: 0.8263\n",
            "Epoch 77/500\n",
            "782/782 [==============================] - 3s 4ms/step - loss: 0.4004 - accuracy: 0.8413\n",
            "Epoch 78/500\n",
            "782/782 [==============================] - 3s 4ms/step - loss: 0.3835 - accuracy: 0.8503\n"
          ],
          "name": "stdout"
        },
        {
          "output_type": "execute_result",
          "data": {
            "text/plain": [
              "<tensorflow.python.keras.callbacks.History at 0x7f76f4fdf358>"
            ]
          },
          "metadata": {
            "tags": []
          },
          "execution_count": 11
        }
      ]
    },
    {
      "cell_type": "code",
      "metadata": {
        "colab": {
          "base_uri": "https://localhost:8080/"
        },
        "id": "Lm4qOjRqFk1Z",
        "outputId": "00034564-1914-49dc-df12-edd7747228dc"
      },
      "source": [
        "test_loss, test_acc = model.evaluate(test_images, test_labels)\n",
        "\n",
        "print('Test accuracy:', test_acc)"
      ],
      "execution_count": null,
      "outputs": [
        {
          "output_type": "stream",
          "text": [
            "157/157 [==============================] - 0s 2ms/step - loss: 1.6791 - accuracy: 0.6134\n",
            "Test accuracy: 0.6133999824523926\n"
          ],
          "name": "stdout"
        }
      ]
    },
    {
      "cell_type": "code",
      "metadata": {
        "id": "eU1V7_qIHNe0"
      },
      "source": [
        "pred_test_labels = np.argmax(model.predict(test_images),axis =1)"
      ],
      "execution_count": null,
      "outputs": []
    },
    {
      "cell_type": "code",
      "metadata": {
        "id": "ZW-wZ8NNUBdd"
      },
      "source": [
        "con_mat = np.zeros((5,5))\n",
        "for i in range(len(test_labels)):\n",
        "  con_mat[test_labels[i]][pred_test_labels[i]] += 1"
      ],
      "execution_count": null,
      "outputs": []
    },
    {
      "cell_type": "code",
      "metadata": {
        "id": "jcDw7jJBXMj2"
      },
      "source": [
        "class_names = ['airplane', 'automobile', 'bird', 'cat', 'deer']\n",
        "con_mat_df = pd.DataFrame(con_mat, index = [i for i in class_names],\n",
        "                  columns = [i for i in class_names])"
      ],
      "execution_count": null,
      "outputs": []
    },
    {
      "cell_type": "code",
      "metadata": {
        "id": "bTShr2ZIW9pj",
        "colab": {
          "base_uri": "https://localhost:8080/",
          "height": 337
        },
        "outputId": "7372e3d7-2839-4397-ecbc-54ea4033e53a"
      },
      "source": [
        "plt.figure(figsize = (7,5))\n",
        "sns.heatmap(con_mat_df, annot=True, fmt='g',cmap='Blues')"
      ],
      "execution_count": null,
      "outputs": [
        {
          "output_type": "execute_result",
          "data": {
            "text/plain": [
              "<matplotlib.axes._subplots.AxesSubplot at 0x7f76ee9b0a20>"
            ]
          },
          "metadata": {
            "tags": []
          },
          "execution_count": 16
        },
        {
          "output_type": "display_data",
          "data": {
            "image/png": "[encoded data removed]",
            "text/plain": [
              "<Figure size 504x360 with 2 Axes>"
            ]
          },
          "metadata": {
            "tags": [],
            "needs_background": "light"
          }
        }
      ]
    },
    {
      "cell_type": "code",
      "metadata": {
        "id": "n0RD1si0YB_1"
      },
      "source": [
        "FP = con_mat.sum(axis=0) - np.diag(con_mat) \n",
        "FN = con_mat.sum(axis=1) - np.diag(con_mat)\n",
        "TP = np.diag(con_mat)\n",
        "TN = con_mat.sum() - (FP + FN + TP)"
      ],
      "execution_count": null,
      "outputs": []
    },
    {
      "cell_type": "code",
      "metadata": {
        "id": "Ybeq4hzpZmEK",
        "colab": {
          "base_uri": "https://localhost:8080/",
          "height": 282
        },
        "outputId": "d36195c6-9d64-4890-e9c6-ba5f65b0798c"
      },
      "source": [
        "tfr_mat_df = pd.DataFrame((TP,TN,FP,FN),  columns = [i for i in class_names],\n",
        "                  index = [i for i in ['TP','TN','FP','FN']])\n",
        "plt.figure(figsize = (10,4))\n",
        "sns.heatmap(tfr_mat_df, annot=True, fmt='g',cmap='bone_r')"
      ],
      "execution_count": null,
      "outputs": [
        {
          "output_type": "execute_result",
          "data": {
            "text/plain": [
              "<matplotlib.axes._subplots.AxesSubplot at 0x7f76ee179a58>"
            ]
          },
          "metadata": {
            "tags": []
          },
          "execution_count": 19
        },
        {
          "output_type": "display_data",
          "data": {
            "image/png": "[encoded data removed]",
            "text/plain": [
              "<Figure size 720x288 with 2 Axes>"
            ]
          },
          "metadata": {
            "tags": [],
            "needs_background": "light"
          }
        }
      ]
    },
    {
      "cell_type": "code",
      "metadata": {
        "id": "Ja1u3DMbZuqi"
      },
      "source": [
        ""
      ],
      "execution_count": null,
      "outputs": []
    }
  ]
}